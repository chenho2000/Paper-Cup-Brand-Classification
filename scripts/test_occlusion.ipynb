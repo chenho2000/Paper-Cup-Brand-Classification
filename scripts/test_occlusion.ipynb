{
 "cells": [
  {
   "cell_type": "markdown",
   "id": "38fd9b79-2601-4194-a7bc-4ff6cccbf917",
   "metadata": {},
   "source": [
    "# Occlusion Test Images Generation"
   ]
  },
  {
   "cell_type": "code",
   "execution_count": 1,
   "id": "f201ec93-e3d3-4ed7-80e2-d91bd365e093",
   "metadata": {},
   "outputs": [],
   "source": [
    "!pip install --user -q ultralytics"
   ]
  },
  {
   "cell_type": "code",
   "execution_count": 2,
   "id": "8d0aa3b6-2a38-4fa1-a200-c272d25dad18",
   "metadata": {},
   "outputs": [],
   "source": [
    "import cv2\n",
    "import numpy as np\n",
    "from ultralytics import utils\n",
    "from pathlib import Path\n",
    "import random"
   ]
  },
  {
   "cell_type": "code",
   "execution_count": 3,
   "id": "ff295044-4930-480e-a020-63430cc98289",
   "metadata": {},
   "outputs": [],
   "source": [
    "occl_perc=0.5\n",
    "in_path=Path(\"./source\")\n",
    "out_path=Path(\"./output\")\n",
    "out_path.mkdir(parents=True, exist_ok=True)"
   ]
  },
  {
   "cell_type": "code",
   "execution_count": 4,
   "id": "4780dfc4-ba8d-4d36-8bde-2e54253c01fd",
   "metadata": {},
   "outputs": [],
   "source": [
    "for ip in in_path.glob(\"*.jpg\"):\n",
    "    image=cv2.imread(ip)\n",
    "    bbox=np.loadtxt(ip.with_suffix(\".txt\"), dtype=float)[1:]\n",
    "    brect=utils.ops.xywhn2xyxy(bbox, h=image.shape[0], w=image.shape[1]).astype(int)\n",
    "    brect_h=brect[3]-brect[1]\n",
    "    brect_w=brect[2]-brect[0]\n",
    "    rect_h=int(occl_perc*brect_h)\n",
    "    offsets_y = np.linspace(0,brect_h-rect_h,num=5).astype(int)\n",
    "    occl_imgs=[cv2.rectangle(image.copy(), (brect[0],brect[1]+offset_y), (brect[2], brect[1]+offset_y+rect_h), random.choices(range(256),k=3), -1) for offset_y in offsets_y]\n",
    "    for i,img in enumerate(occl_imgs):\n",
    "        cv2.imwrite(out_path/(ip.with_stem(f\"{ip.stem}_{i}\")).name, img)"
   ]
  }
 ],
 "metadata": {
  "kernelspec": {
   "display_name": "Python 3 user modules",
   "language": "python",
   "name": "python3-user-modules"
  },
  "language_info": {
   "codemirror_mode": {
    "name": "ipython",
    "version": 3
   },
   "file_extension": ".py",
   "mimetype": "text/x-python",
   "name": "python",
   "nbconvert_exporter": "python",
   "pygments_lexer": "ipython3",
   "version": "3.10.4"
  }
 },
 "nbformat": 4,
 "nbformat_minor": 5
}
