{
 "cells": [
  {
   "cell_type": "code",
   "execution_count": null,
   "id": "67a28a11-7e40-4118-a428-44bf92cd4e9e",
   "metadata": {},
   "outputs": [
    {
     "name": "stdout",
     "output_type": "stream",
     "text": [
      "Ignoring unsupported parameter 'split' for importer type <class 'fiftyone.utils.data.importers.ImageDirectoryImporter'>\n",
      " 100% |█████████████| 11667/11667 [906.3ms elapsed, 0s remaining, 12.9K samples/s]      \n",
      " 100% |█████████████| 11667/11667 [4.8m elapsed, 0s remaining, 74.1 samples/s]      \n"
     ]
    },
    {
     "name": "stdout",
     "output_type": "stream",
     "text": [
      " 100% |███████████████| 3407/3407 [3.7s elapsed, 0s remaining, 939.8 samples/s]      \n",
      " 100% |███████████████| 3407/3407 [1.3m elapsed, 0s remaining, 101.9 samples/s]      \n"
     ]
    }
   ],
   "source": [
    "import cv2\n",
    "import numpy as np\n",
    "\n",
    "import fiftyone as fo\n",
    "import fiftyone.brain as fob\n",
    "import fiftyone.zoo as foz\n",
    "\n",
    "dataset = fo.Dataset.from_dir(\"./images\", dataset_type=fo.types.ImageDirectory, split=\"train\")\n",
    "\n",
    "model = foz.load_zoo_model(\"resnet101-imagenet-torch\")\n",
    "embeddings = dataset.compute_embeddings(model)"
   ]
  },
  {
   "cell_type": "code",
   "execution_count": null,
   "id": "918fdc42-6fec-43f3-901b-147c442bcd93",
   "metadata": {},
   "outputs": [
    {
     "name": "stdout",
     "output_type": "stream",
     "text": [
      "Generating visualization...\n",
      "UMAP( verbose=True)\n",
      "Fri Feb 28 19:16:57 2025 Construct fuzzy simplicial set\n",
      "Fri Feb 28 19:16:57 2025 Finding Nearest Neighbors\n",
      "Fri Feb 28 19:16:57 2025 Building RP forest with 10 trees\n"
     ]
    },
    {
     "name": "stderr",
     "output_type": "stream",
     "text": [
      "/home/marcus/project/770/.venv/lib/python3.13/site-packages/sklearn/utils/deprecation.py:151: FutureWarning:\n",
      "\n",
      "'force_all_finite' was renamed to 'ensure_all_finite' in 1.6 and will be removed in 1.8.\n",
      "\n"
     ]
    },
    {
     "name": "stdout",
     "output_type": "stream",
     "text": [
      "Fri Feb 28 19:17:00 2025 NN descent for 14 iterations\n",
      "\t 1  /  14\n",
      "\t 2  /  14\n",
      "\t 3  /  14\n",
      "\t 4  /  14\n",
      "\t 5  /  14\n",
      "\tStopping threshold met -- exiting after 5 iterations\n",
      "Fri Feb 28 19:17:05 2025 Finished Nearest Neighbor Search\n",
      "Fri Feb 28 19:17:05 2025 Construct embedding\n"
     ]
    },
    {
     "data": {
      "application/vnd.jupyter.widget-view+json": {
       "model_id": "78bf6f839a3c4bc28aa5122be81d3fd4",
       "version_major": 2,
       "version_minor": 0
      },
      "text/plain": [
       "Epochs completed:   0%|            0/200 [00:00]"
      ]
     },
     "metadata": {},
     "output_type": "display_data"
    },
    {
     "name": "stdout",
     "output_type": "stream",
     "text": [
      "\tcompleted  0  /  200 epochs\n",
      "\tcompleted  20  /  200 epochs\n",
      "\tcompleted  40  /  200 epochs\n",
      "\tcompleted  60  /  200 epochs\n",
      "\tcompleted  80  /  200 epochs\n",
      "\tcompleted  100  /  200 epochs\n",
      "\tcompleted  120  /  200 epochs\n",
      "\tcompleted  140  /  200 epochs\n",
      "\tcompleted  160  /  200 epochs\n",
      "\tcompleted  180  /  200 epochs\n",
      "Fri Feb 28 19:17:06 2025 Finished embedding\n"
     ]
    },
    {
     "name": "stdout",
     "output_type": "stream",
     "text": [
      "\tcompleted  0  /  500 epochs\n",
      "\tcompleted  50  /  500 epochs\n",
      "\tcompleted  100  /  500 epochs\n",
      "\tcompleted  150  /  500 epochs\n",
      "\tcompleted  200  /  500 epochs\n",
      "\tcompleted  250  /  500 epochs\n",
      "\tcompleted  300  /  500 epochs\n",
      "\tcompleted  350  /  500 epochs\n",
      "\tcompleted  400  /  500 epochs\n",
      "\tcompleted  450  /  500 epochs\n",
      "Fri Feb 28 13:37:06 2025 Finished embedding\n"
     ]
    }
   ],
   "source": [
    "# Compute visualization\n",
    "results = fob.compute_visualization(dataset, embeddings=embeddings)"
   ]
  },
  {
   "cell_type": "code",
   "execution_count": null,
   "id": "6900e7a4-f2fc-431e-81b0-748879e414e7",
   "metadata": {},
   "outputs": [
    {
     "name": "stdout",
     "output_type": "stream",
     "text": [
      "Session launched. Run `session.show()` to open the App in a cell output.\n"
     ]
    },
    {
     "data": {
      "text/html": [
       "\n",
       "        <iframe\n",
       "            width=\"100%\"\n",
       "            height=\"800\"\n",
       "            src=\"http://localhost:5151/?notebook=True&subscription=6de0f613-02e7-443d-929b-f38ec3452aca\"\n",
       "            frameborder=\"0\"\n",
       "            allowfullscreen\n",
       "            \n",
       "        ></iframe>\n",
       "        "
      ],
      "text/plain": [
       "<IPython.lib.display.IFrame at 0x723f4d98ead0>"
      ]
     },
     "metadata": {},
     "output_type": "display_data"
    }
   ],
   "source": [
    "session = fo.launch_app(dataset, auto=False, port=5151)\n",
    "session.show()"
   ]
  },
  {
   "cell_type": "code",
   "execution_count": 10,
   "id": "675bd067-349c-4580-a94d-26fcb732d098",
   "metadata": {},
   "outputs": [
    {
     "data": {
      "text/plain": []
     },
     "metadata": {},
     "output_type": "display_data"
    },
    {
     "data": {
      "text/plain": []
     },
     "metadata": {},
     "output_type": "display_data"
    },
    {
     "data": {
      "application/vnd.jupyter.widget-view+json": {
       "model_id": "d364742d14624ab4acddee25a9df27af",
       "version_major": 2,
       "version_minor": 0
      },
      "text/plain": [
       "FigureWidget({\n",
       "    'data': [{'customdata': array(['67c250d9655737729a4e35b5', '67c250d9655737729a4e35b6',\n",
       "                                   '67c250d9655737729a4e35b7', ..., '67c250da655737729a4e6345',\n",
       "                                   '67c250da655737729a4e6346', '67c250da655737729a4e6347'], dtype=object),\n",
       "              'hovertemplate': 'x, y = %{x:.3f}, %{y:.3f}<br>ID: %{customdata}<extra></extra>',\n",
       "              'mode': 'markers',\n",
       "              'type': 'scattergl',\n",
       "              'uid': '301aea28-fec1-4de3-b000-54ce09801263',\n",
       "              'x': {'bdata': ('YCgEQRAoBEE7FgRBHisEQSgxBEEHCw' ... 'QswKouM8AhzC/AjOgtwKu/LcCg7zXA'),\n",
       "                    'dtype': 'f4'},\n",
       "              'y': {'bdata': ('GE2qQCdYqkBSNqpA5VOqQMheqkDzG6' ... 'Btv7HesL8b21y/IjZ1v8iRTr+zeqe/'),\n",
       "                    'dtype': 'f4'}}],\n",
       "    'layout': {'height': 720, 'margin': {'b': 0, 'l': 0, 'r': 0, 't': 30}, 'template': '...'}\n",
       "})"
      ]
     },
     "metadata": {},
     "output_type": "display_data"
    }
   ],
   "source": [
    "# Visualize embeddings, colored by ground truth label\n",
    "plot = results.visualize()\n",
    "plot.show(height=720)\n",
    "\n",
    "session.plots.attach(plot)"
   ]
  },
  {
   "cell_type": "code",
   "execution_count": null,
   "id": "bd827828-8828-4e3c-b77c-a4959995f936",
   "metadata": {},
   "outputs": [],
   "source": []
  }
 ],
 "metadata": {
  "kernelspec": {
   "display_name": "Python 3 (ipykernel)",
   "language": "python",
   "name": "python3"
  },
  "language_info": {
   "codemirror_mode": {
    "name": "ipython",
    "version": 3
   },
   "file_extension": ".py",
   "mimetype": "text/x-python",
   "name": "python",
   "nbconvert_exporter": "python",
   "pygments_lexer": "ipython3",
   "version": "3.13.1"
  }
 },
 "nbformat": 4,
 "nbformat_minor": 5
}
