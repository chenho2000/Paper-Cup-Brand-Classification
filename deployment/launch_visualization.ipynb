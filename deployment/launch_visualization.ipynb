{
 "cells": [
  {
   "cell_type": "markdown",
   "id": "3baa0bde-14ec-4ac9-bb53-da3ac3928cd3",
   "metadata": {},
   "source": [
    "# Grafana Dashboard and Prometheus Server"
   ]
  },
  {
   "cell_type": "code",
   "execution_count": null,
   "id": "a7c13527-06a7-4f25-b0f3-1183dc395e28",
   "metadata": {},
   "outputs": [],
   "source": [
    "%%bash\n",
    "docker pull grafana/grafana:latest"
   ]
  },
  {
   "cell_type": "code",
   "execution_count": null,
   "id": "c261294f",
   "metadata": {},
   "outputs": [],
   "source": [
    "%%bash\n",
    "docker pull prom/prometheus:latest"
   ]
  },
  {
   "cell_type": "code",
   "execution_count": null,
   "id": "916286f9",
   "metadata": {},
   "outputs": [],
   "source": [
    "%%bash\n",
    "docker run -d --name=prometheus -p 9090:9090 -v ./prometheus.yml:/etc/prometheus/prometheus.yml prom/prometheus"
   ]
  },
  {
   "cell_type": "code",
   "execution_count": null,
   "id": "122715ef-7765-46af-b8d3-207b4bbcf7a6",
   "metadata": {},
   "outputs": [],
   "source": [
    "%%bash\n",
    "docker run -d --name=grafana -p 3000:3000 grafana/grafana"
   ]
  },
  {
   "cell_type": "markdown",
   "id": "867ffa90-d21f-48f6-8426-7cc69bee9396",
   "metadata": {},
   "source": [
    "## Import Dashboard and Datasource\n",
    "- Log into Grafana using default credentials\n",
    "- Install (Infinity)[https://grafana.com/grafana/plugins/yesoreyeram-infinity-datasource/] plugin\n",
    "- Import the dashboard configuration `dashboard_yolo_metrics.json` \n",
    "- Import the alert configuration `yolo-alerts.yaml`"
   ]
  },
  {
   "cell_type": "code",
   "execution_count": null,
   "id": "58e4597b-237f-425a-82d3-67596a88f188",
   "metadata": {},
   "outputs": [],
   "source": []
  }
 ],
 "metadata": {
  "kernelspec": {
   "display_name": "Python 3",
   "language": "python",
   "name": "python3"
  },
  "language_info": {
   "codemirror_mode": {
    "name": "ipython",
    "version": 3
   },
   "file_extension": ".py",
   "mimetype": "text/x-python",
   "name": "python",
   "nbconvert_exporter": "python",
   "pygments_lexer": "ipython3",
   "version": "3.10.4"
  }
 },
 "nbformat": 4,
 "nbformat_minor": 5
}
