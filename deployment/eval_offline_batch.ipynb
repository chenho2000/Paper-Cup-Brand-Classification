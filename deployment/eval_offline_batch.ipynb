{
 "cells": [
  {
   "cell_type": "code",
   "execution_count": 61,
   "metadata": {},
   "outputs": [],
   "source": [
    "from ultralytics.data.dataset import YOLODataset\n",
    "from ultralytics.data.utils import check_cls_dataset\n",
    "from ultralytics import YOLO\n",
    "import requests\n",
    "import json"
   ]
  },
  {
   "cell_type": "code",
   "execution_count": 15,
   "metadata": {},
   "outputs": [
    {
     "name": "stderr",
     "output_type": "stream",
     "text": [
      "Scanning ../dataset/batch_01_raw/yolo_format/labels.cache... 1402 images, 1 backgrounds, 0 corrupt: 100%|██████████| 1403/1403 [00:00<?, ?it/s]\n"
     ]
    }
   ],
   "source": [
    "ds=YOLODataset(\"../dataset/batch_01_raw/yolo_format/\", data={\"names\":{\n",
    "  0: \"Cup\",\n",
    "  1: \"Timmies\"}})"
   ]
  },
  {
   "cell_type": "code",
   "execution_count": null,
   "metadata": {},
   "outputs": [],
   "source": [
    "from ultralytics.utils.metrics import ConfusionMatrix\n",
    "from ultralytics.utils.ops import xywh2xyxy\n",
    "import torch\n",
    "\n",
    "model0 = YOLO(\"model0.pt\")\n",
    "model1 = YOLO(\"model0.pt\")\n",
    "\n",
    "default = \"model_0\"\n",
    "models = {\n",
    "    \"model_0\": {\"model\": model0, \"describe\": {\n",
    "        \"model\": \"model_0\",\n",
    "        \"config\": {\n",
    "            \"input_size\": [640, 640],\n",
    "            \"batch_size\": 16,\n",
    "            \"confidence_threshold\": 0.25\n",
    "        },\n",
    "        \"date_registered\": \"2025-03-15\"\n",
    "    }},\n",
    "    \"model_1\": {\"model\": model1, \"describe\": {\n",
    "        \"model\": \"model_1\",\n",
    "        \"config\": {\n",
    "            \"input_size\": [640, 640],\n",
    "            \"batch_size\": 16,\n",
    "            \"confidence_threshold\": 0.25\n",
    "        },\n",
    "        \"date_registered\": \"2025-03-15\"\n",
    "    }}\n",
    "}\n",
    "\n",
    "# IOU THRESHOLD SET AT 45% FOR CALCULATING ACCURACY\n",
    "model_metrics = {\n",
    "    \"predictions\": {\n",
    "        model_name: {\n",
    "            \"confusion_matrix\": ConfusionMatrix(\n",
    "                nc=2, \n",
    "                conf = models[model_name][\"describe\"][\"config\"][\"confidence_threshold\"],\n",
    "                iou_thres = 0.45,\n",
    "                task = \"detect\"),\n",
    "            \"total\": 0\n",
    "        } for model_name in models.keys()\n",
    "    }\n",
    "}\n",
    "\n",
    "def track_accuracy(predictions: list, ground_truth: list,model: str=default):\n",
    "    \"\"\"ground_truth takes the form of [{\"label\": \"class id\", \"bbox\": [x, y, w, h]}] and\n",
    "    predictions is the list of predictions from predict endpoint\n",
    "    \"\"\"        \n",
    "    # Convert predictions to required format (x1, y1, x2, y2, conf, class)\n",
    "    detections = []\n",
    "    for pred in predictions:\n",
    "        box = xywh2xyxy(torch.tensor(pred[\"bbox\"]).view(1, 4)).squeeze()\n",
    "        class_idx = int(pred[\"label\"].lower()==\"timmies\")\n",
    "        detection = torch.cat([\n",
    "            box,\n",
    "            torch.tensor([pred[\"confidence\"]]),\n",
    "            torch.tensor([class_idx])\n",
    "        ])\n",
    "        detections.append(detection)\n",
    "        \n",
    "    # Convert ground truth boxes to xyxy format\n",
    "    gt_boxes = []\n",
    "    gt_cls = []\n",
    "    for gt in ground_truth:\n",
    "        box = xywh2xyxy(torch.tensor(gt[\"bbox\"]).view(1, 4)).squeeze()\n",
    "        gt_boxes.append(box)\n",
    "        gt_cls.append(gt[\"label\"])\n",
    "        \n",
    "    if detections:\n",
    "        detections = torch.stack(detections)\n",
    "    else:\n",
    "        detections = torch.zeros((0, 6))\n",
    "        \n",
    "    gt_boxes = torch.stack(gt_boxes) if gt_boxes else torch.zeros((0, 4))\n",
    "    gt_cls = torch.tensor(gt_cls) if gt_cls else torch.zeros(0)\n",
    "    \n",
    "    # Process batch\n",
    "    model_metrics[\"predictions\"][model][\"confusion_matrix\"].process_batch(\n",
    "        detections,\n",
    "        gt_boxes,\n",
    "        gt_cls\n",
    "    )\n",
    "    \n",
    "    # update total processed images\n",
    "    model_metrics[\"predictions\"][model][\"total\"] += 1\n",
    "    \n",
    "    return {\"success\": True}"
   ]
  },
  {
   "cell_type": "code",
   "execution_count": 136,
   "metadata": {},
   "outputs": [
    {
     "name": "stderr",
     "output_type": "stream",
     "text": [
      "Scanning ../dataset/batch_01_raw/yolo_format/labels.cache... 1402 images, 1 backgrounds, 0 corrupt: 100%|██████████| 1403/1403 [00:00<?, ?it/s]\n"
     ]
    }
   ],
   "source": [
    "for d in ds.get_labels()[:50]:\n",
    "    predictions=[]\n",
    "    ground_truth=[]\n",
    "    resp=requests.post(\"http://localhost:6132/predict\", data={\"model\":\"model_0\"}, files={\"file\":open(d[\"im_file\"],\"rb\")})\n",
    "    if resp.ok:\n",
    "        predictions=resp.json().get(\"predictions\")\n",
    "    for i in range(len(d[\"cls\"])):\n",
    "        ground_truth.append({\"label\":d[\"cls\"][i][0].tolist(), \"bbox\":d[\"bboxes\"][i].tolist()})\n",
    "    resp=requests.post(\"http://localhost:6132/track\", json={\"model\":\"model_0\", \"predictions\":predictions,\"ground_truth\":ground_truth})\n",
    "    track_accuracy(predictions,ground_truth)\n"
   ]
  },
  {
   "cell_type": "code",
   "execution_count": 148,
   "metadata": {},
   "outputs": [],
   "source": [
    "import pandas\n",
    "df=pandas.DataFrame(data=model_metrics[\"predictions\"][\"model_0\"][\"confusion_matrix\"].matrix)"
   ]
  },
  {
   "cell_type": "code",
   "execution_count": 147,
   "metadata": {},
   "outputs": [],
   "source": [
    "with open(\"./offline_batch_results.txt\",\"w\") as f:\n",
    "    f.write(df.to_json(orient=\"index\"))"
   ]
  }
 ],
 "metadata": {
  "kernelspec": {
   "display_name": ".venv",
   "language": "python",
   "name": "python3"
  },
  "language_info": {
   "codemirror_mode": {
    "name": "ipython",
    "version": 3
   },
   "file_extension": ".py",
   "mimetype": "text/x-python",
   "name": "python",
   "nbconvert_exporter": "python",
   "pygments_lexer": "ipython3",
   "version": "3.13.2"
  }
 },
 "nbformat": 4,
 "nbformat_minor": 2
}
